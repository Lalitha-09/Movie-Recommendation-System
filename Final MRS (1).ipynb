{
 "cells": [
  {
   "cell_type": "code",
   "execution_count": 9,
   "id": "dfd7bcf5",
   "metadata": {},
   "outputs": [],
   "source": [
    "import pandas as pd\n",
    "import numpy as np"
   ]
  },
  {
   "cell_type": "code",
   "execution_count": 1,
   "id": "18908301",
   "metadata": {},
   "outputs": [],
   "source": [
    "from sklearn.feature_extraction.text import TfidfVectorizer"
   ]
  },
  {
   "cell_type": "code",
   "execution_count": 2,
   "id": "0a61c105",
   "metadata": {},
   "outputs": [],
   "source": [
    "from sklearn.metrics.pairwise import cosine_similarity"
   ]
  },
  {
   "cell_type": "code",
   "execution_count": 5,
   "id": "c826dbef",
   "metadata": {},
   "outputs": [],
   "source": [
    "df=pd.read_csv(\"upto2017.csv\")"
   ]
  },
  {
   "cell_type": "code",
   "execution_count": 6,
   "id": "81fb6b46",
   "metadata": {},
   "outputs": [],
   "source": [
    "vectorizer=TfidfVectorizer(ngram_range=(1,2))\n",
    "tfidf=vectorizer.fit_transform(df['combined'])"
   ]
  },
  {
   "cell_type": "code",
   "execution_count": 11,
   "id": "22defd0a",
   "metadata": {},
   "outputs": [],
   "source": [
    "def reclist(name):\n",
    "    movie_name=vectorizer.transform([name])\n",
    "    similarity=cosine_similarity(movie_name,tfidf)\n",
    "    s=similarity.flatten()           # similarity was of shape(1,5043)-2d. So, we change it to 1-d (5043,)\n",
    "    index=(np.argsort(s)[-10:])\n",
    "    return df.loc[index,['movie_title','genres']]"
   ]
  },
  {
   "cell_type": "code",
   "execution_count": 13,
   "id": "ef1b177d",
   "metadata": {},
   "outputs": [
    {
     "name": "stdout",
     "output_type": "stream",
     "text": [
      "Enter the movie name the 40-year-old virgin\n"
     ]
    },
    {
     "data": {
      "text/html": [
       "<div>\n",
       "<style scoped>\n",
       "    .dataframe tbody tr th:only-of-type {\n",
       "        vertical-align: middle;\n",
       "    }\n",
       "\n",
       "    .dataframe tbody tr th {\n",
       "        vertical-align: top;\n",
       "    }\n",
       "\n",
       "    .dataframe thead th {\n",
       "        text-align: right;\n",
       "    }\n",
       "</style>\n",
       "<table border=\"1\" class=\"dataframe\">\n",
       "  <thead>\n",
       "    <tr style=\"text-align: right;\">\n",
       "      <th></th>\n",
       "      <th>movie_title</th>\n",
       "      <th>genres</th>\n",
       "    </tr>\n",
       "  </thead>\n",
       "  <tbody>\n",
       "    <tr>\n",
       "      <th>1365</th>\n",
       "      <td>virgin territory</td>\n",
       "      <td>Adventure Comedy History Romance</td>\n",
       "    </tr>\n",
       "    <tr>\n",
       "      <th>1885</th>\n",
       "      <td>no country for old men</td>\n",
       "      <td>Crime Drama Thriller</td>\n",
       "    </tr>\n",
       "    <tr>\n",
       "      <th>1430</th>\n",
       "      <td>this is 40</td>\n",
       "      <td>Comedy</td>\n",
       "    </tr>\n",
       "    <tr>\n",
       "      <th>1431</th>\n",
       "      <td>old dogs</td>\n",
       "      <td>Comedy Family</td>\n",
       "    </tr>\n",
       "    <tr>\n",
       "      <th>2026</th>\n",
       "      <td>old school</td>\n",
       "      <td>Comedy</td>\n",
       "    </tr>\n",
       "    <tr>\n",
       "      <th>4832</th>\n",
       "      <td>old joy</td>\n",
       "      <td>Drama</td>\n",
       "    </tr>\n",
       "    <tr>\n",
       "      <th>3618</th>\n",
       "      <td>the virgin suicides</td>\n",
       "      <td>Drama Romance</td>\n",
       "    </tr>\n",
       "    <tr>\n",
       "      <th>2498</th>\n",
       "      <td>40 days and 40 nights</td>\n",
       "      <td>Comedy Romance</td>\n",
       "    </tr>\n",
       "    <tr>\n",
       "      <th>4472</th>\n",
       "      <td>the 41-year-old virgin who knocked up sarah ma...</td>\n",
       "      <td>Comedy</td>\n",
       "    </tr>\n",
       "    <tr>\n",
       "      <th>1834</th>\n",
       "      <td>the 40-year-old virgin</td>\n",
       "      <td>Comedy Romance</td>\n",
       "    </tr>\n",
       "  </tbody>\n",
       "</table>\n",
       "</div>"
      ],
      "text/plain": [
       "                                            movie_title  \\\n",
       "1365                                   virgin territory   \n",
       "1885                             no country for old men   \n",
       "1430                                         this is 40   \n",
       "1431                                           old dogs   \n",
       "2026                                         old school   \n",
       "4832                                            old joy   \n",
       "3618                                the virgin suicides   \n",
       "2498                              40 days and 40 nights   \n",
       "4472  the 41-year-old virgin who knocked up sarah ma...   \n",
       "1834                             the 40-year-old virgin   \n",
       "\n",
       "                                genres  \n",
       "1365  Adventure Comedy History Romance  \n",
       "1885              Crime Drama Thriller  \n",
       "1430                            Comedy  \n",
       "1431                     Comedy Family  \n",
       "2026                            Comedy  \n",
       "4832                             Drama  \n",
       "3618                     Drama Romance  \n",
       "2498                    Comedy Romance  \n",
       "4472                            Comedy  \n",
       "1834                    Comedy Romance  "
      ]
     },
     "execution_count": 13,
     "metadata": {},
     "output_type": "execute_result"
    }
   ],
   "source": [
    "reclist(input(\"Enter the movie name \"))"
   ]
  }
 ],
 "metadata": {
  "kernelspec": {
   "display_name": "Python 3 (ipykernel)",
   "language": "python",
   "name": "python3"
  },
  "language_info": {
   "codemirror_mode": {
    "name": "ipython",
    "version": 3
   },
   "file_extension": ".py",
   "mimetype": "text/x-python",
   "name": "python",
   "nbconvert_exporter": "python",
   "pygments_lexer": "ipython3",
   "version": "3.10.5"
  }
 },
 "nbformat": 4,
 "nbformat_minor": 5
}
